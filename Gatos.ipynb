{
 "cells": [
  {
   "cell_type": "markdown",
   "id": "aab64353",
   "metadata": {},
   "source": [
    "¿Cuál es el promedio de los gastos de mis 3 últimos meses?\n"
   ]
  },
  {
   "cell_type": "code",
   "execution_count": 2,
   "id": "9a5b5041",
   "metadata": {},
   "outputs": [
    {
     "name": "stdout",
     "output_type": "stream",
     "text": [
      "¿Cuanto dinero gastaste en Mayo?1200\n",
      "¿Cuanto dinero gastaste en Junio3400\n",
      "¿Cuanto dinero gastaste en Julio3300\n"
     ]
    }
   ],
   "source": [
    "Mayo = float (input(\"¿Cuanto dinero gastaste en Mayo?\"))\n",
    "Junio = float (input(\"¿Cuanto dinero gastaste en Junio\"))\n",
    "Julio = float (input(\"¿Cuanto dinero gastaste en Julio\"))"
   ]
  },
  {
   "cell_type": "code",
   "execution_count": 4,
   "id": "4cea2746",
   "metadata": {},
   "outputs": [
    {
     "name": "stdout",
     "output_type": "stream",
     "text": [
      "Su gasto total fue 7900.0\n"
     ]
    }
   ],
   "source": [
    "Total = float (Mayo + Junio + Julio)\n",
    "print (\"Su gasto total fue\" + \" \" + str(Total))"
   ]
  },
  {
   "cell_type": "code",
   "execution_count": 7,
   "id": "cd526c4d",
   "metadata": {},
   "outputs": [
    {
     "name": "stdout",
     "output_type": "stream",
     "text": [
      "El promedio de los 3 meses fue: 2633.3333333333335\n"
     ]
    }
   ],
   "source": [
    "Promedio = float (Total) / 3\n",
    "print (\"El promedio de los 3 meses fue:\" + \" \"+ str (Promedio))"
   ]
  },
  {
   "cell_type": "code",
   "execution_count": null,
   "id": "3e22cd43",
   "metadata": {},
   "outputs": [],
   "source": []
  }
 ],
 "metadata": {
  "kernelspec": {
   "display_name": "Python 3 (ipykernel)",
   "language": "python",
   "name": "python3"
  },
  "language_info": {
   "codemirror_mode": {
    "name": "ipython",
    "version": 3
   },
   "file_extension": ".py",
   "mimetype": "text/x-python",
   "name": "python",
   "nbconvert_exporter": "python",
   "pygments_lexer": "ipython3",
   "version": "3.9.13"
  }
 },
 "nbformat": 4,
 "nbformat_minor": 5
}
